{
 "cells": [
  {
   "cell_type": "code",
   "execution_count": 5,
   "metadata": {},
   "outputs": [],
   "source": [
    "from math import sqrt # Импортируем функции квадратного корня и наибольшего общего делителя"
   ]
  },
  {
   "cell_type": "markdown",
   "metadata": {},
   "source": [
    "Вычислим соотношение сторон \"ratio\".\n",
    "Мы можем представить стороны экрана как:\n",
    "\n",
    "$\\ a^2 + b^2 = c^2 $, где\n",
    "$\\ c^2 $ - диагональ\n",
    "\n",
    "Поскольку у нас постоянная цель: 262144 пикселей, мы можем вычислить максимальную сторону экрана (допустим, что это ширина), подходящую под эту цель:\n",
    "\n",
    "$\\sqrt{262144} = 512 $\n",
    "\n",
    "Далее делим это число на соотношение и получаем вторую сторону.\n",
    "Если новое соотношение не сходиться со старым - отнимаем еденицу у ширины и пробуем вычислить снова, пока не прийдём точно к такому же соотношению, которое было в начале.\n",
    "\n"
   ]
  },
  {
   "cell_type": "code",
   "execution_count": 25,
   "metadata": {},
   "outputs": [
    {
     "name": "stdout",
     "output_type": "stream",
     "text": [
      "Goal: 262144, ratio: 2.77, Height: 185, Width: 512.0. New ratio: 2.77\n"
     ]
    }
   ],
   "source": [
    "ratio = round(2326/840,2)\n",
    "new_ratio = 0\n",
    "y = sqrt(262144)\n",
    "while new_ratio!= ratio:\n",
    "    x = round(y/ratio)\n",
    "    new_ratio = round(y/x, 2)\n",
    "    if new_ratio!= ratio:\n",
    "        y-=1\n",
    "\n",
    "print(f\"Goal: {262144}, ratio: {ratio}, Height: {x}, Width: {y}. New ratio: {new_ratio}\")"
   ]
  }
 ],
 "metadata": {
  "kernelspec": {
   "display_name": "Python 3.9.13 ('base')",
   "language": "python",
   "name": "python3"
  },
  "language_info": {
   "codemirror_mode": {
    "name": "ipython",
    "version": 3
   },
   "file_extension": ".py",
   "mimetype": "text/x-python",
   "name": "python",
   "nbconvert_exporter": "python",
   "pygments_lexer": "ipython3",
   "version": "3.9.13"
  },
  "orig_nbformat": 4,
  "vscode": {
   "interpreter": {
    "hash": "ad2bdc8ecc057115af97d19610ffacc2b4e99fae6737bb82f5d7fb13d2f2c186"
   }
  }
 },
 "nbformat": 4,
 "nbformat_minor": 2
}
