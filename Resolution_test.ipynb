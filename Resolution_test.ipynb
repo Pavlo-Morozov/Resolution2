{
 "cells": [
  {
   "cell_type": "code",
   "execution_count": 1,
   "metadata": {},
   "outputs": [],
   "source": [
    "from math import sqrt, gcd # Импортируем функции квадратного корня и наибольшего общего делителя"
   ]
  },
  {
   "cell_type": "markdown",
   "metadata": {},
   "source": [
    "## Вариант 1\n",
    "Получаем стороны экрана зная число пикселей и соотношение сторон.\n",
    "\n",
    "Переменная \"input\" содержит в себе соотношения сторон. Переделывайте её под свои нужды.\n",
    "финальное число пикселей указано как goal в функции get_sides\n",
    "\n",
    "Сразу вычисляем пропорции диагонали и саму диагональ, потом имея эту информацию мы можем найти неизвестные нам разрешения.\n",
    "\n",
    "Чтобы найти целочисленные параметры разрешения, используем цикл, изменя финальное число пикселей goal на -1 каждый раз, пока не добъёмся нужных результатов.\n",
    "\n",
    "Функция nearest_pixels записывает результаты вычислений в переменную result, которую потом можно сохранить в виде json файла."
   ]
  },
  {
   "cell_type": "code",
   "execution_count": 2,
   "metadata": {},
   "outputs": [],
   "source": [
    "# input = {\"16:9\": [16, 9 ], \"18:9\": [18, 9], \"18.5:9\":[18.5, 9],\n",
    "#                 \"19:9\": [19, 9], \"19.5:9\": [19.5, 9], \"20:9\": [20, 9],\n",
    "#                 \"22:9\": [22, 9], \"21,6:18\": [21.6, 18]}\n",
    "\n",
    "input = {\"24.9:9\": [24.9, 9]}"
   ]
  },
  {
   "cell_type": "code",
   "execution_count": 3,
   "metadata": {},
   "outputs": [],
   "source": [
    "def get_sides(x, y):\n",
    "    goal = 262_144 # наша цель\n",
    "    inches = 2.54 # для перевода с дюймов в см (при расчёте диагонали)\n",
    "\n",
    "    while goal!=0:\n",
    "        diagonal_proportion = sqrt((x**2)+(y**2)) # вычисляем пропорции диагонали\n",
    "        \n",
    "        # d - просто переменная, чтоб не прописывать выражение 2 раза\n",
    "        d = (x/diagonal_proportion*inches)*(y/diagonal_proportion*inches)\n",
    "        diagonal = sqrt(-4*d*(-goal))/(2*d) # диагональ\n",
    "\n",
    "        height = (x*diagonal/diagonal_proportion)*inches # высота\n",
    "        width = (y*diagonal/diagonal_proportion)*inches # ширина\n",
    "\n",
    "        # Если не получились целочисленные значения, понижаем цель на 1 и пробуем снова\n",
    "        if height%2 or width%2:\n",
    "            goal = goal-1\n",
    "        else:\n",
    "            print(f\"goal: {goal}, height: {height}, width: {width}\")\n",
    "            return goal, height, width\n",
    "            break"
   ]
  },
  {
   "cell_type": "code",
   "execution_count": 4,
   "metadata": {},
   "outputs": [
    {
     "name": "stdout",
     "output_type": "stream",
     "text": [
      "goal: 249000, height: 830.0, width: 300.0\n",
      "{'24.9:9': {'resolution': '24.9:9', 'result': 249000, 'height': 830.0, 'width': 300.0}}\n"
     ]
    }
   ],
   "source": [
    "def nearest_pixels(input):\n",
    "    result = {}\n",
    "    for res in input:\n",
    "        x, y = input[res]\n",
    "        goal, height, width = get_sides(x, y)\n",
    "        result[res] = []\n",
    "        result[res] = {\"resolution\": res,\n",
    "                        \"result\": goal,\n",
    "                        \"height\": height,\n",
    "                        \"width\": width}\n",
    "    return result\n",
    "\n",
    "result = nearest_pixels(input)\n",
    "print(result)"
   ]
  },
  {
   "cell_type": "code",
   "execution_count": 5,
   "metadata": {},
   "outputs": [],
   "source": [
    "# Сохраняем в файл\n",
    "import json\n",
    "with open('resolutions.json', 'w') as file:\n",
    "    json.dump(result, file)"
   ]
  },
  {
   "cell_type": "markdown",
   "metadata": {},
   "source": [
    "## Вариант 2\n",
    "Когда нам нужно имея разрешение экрана получить соотношение сторон\n",
    "с помошью функции gcd Greatest Common Divisor, находим наибольший общий делитель и делим на него стороны экрана, чтобы получить соотношение."
   ]
  },
  {
   "cell_type": "code",
   "execution_count": 10,
   "metadata": {},
   "outputs": [
    {
     "name": "stdout",
     "output_type": "stream",
     "text": [
      "Resolution of 2213 x 1689 is: 11.8:9\n"
     ]
    }
   ],
   "source": [
    "input = [2213, 1689]\n",
    "x, y = input\n",
    "def resolution(input):\n",
    "    x, y = input\n",
    "    gcf = gcd(x,y)\n",
    "    if gcf == 1 and x!=y:\n",
    "        res_x = round(x/y*9, 1)\n",
    "        res_y = 9\n",
    "    else:\n",
    "         res_x = round(x/gcf,1)\n",
    "         res_y = round(y/gcf,1)\n",
    "    return res_x, res_y\n",
    "\n",
    "print(f\"Resolution of {input[0]} x {input[1]} is: {resolution(input)[0]}:{resolution(input)[1]}\")"
   ]
  },
  {
   "cell_type": "code",
   "execution_count": 9,
   "metadata": {},
   "outputs": [
    {
     "data": {
      "text/plain": [
       "16.608058608058606"
      ]
     },
     "execution_count": 9,
     "metadata": {},
     "output_type": "execute_result"
    }
   ],
   "source": [
    "2267/819*6"
   ]
  }
 ],
 "metadata": {
  "kernelspec": {
   "display_name": "Python 3.9.13 ('base')",
   "language": "python",
   "name": "python3"
  },
  "language_info": {
   "codemirror_mode": {
    "name": "ipython",
    "version": 3
   },
   "file_extension": ".py",
   "mimetype": "text/x-python",
   "name": "python",
   "nbconvert_exporter": "python",
   "pygments_lexer": "ipython3",
   "version": "3.9.13"
  },
  "orig_nbformat": 4,
  "vscode": {
   "interpreter": {
    "hash": "ad2bdc8ecc057115af97d19610ffacc2b4e99fae6737bb82f5d7fb13d2f2c186"
   }
  }
 },
 "nbformat": 4,
 "nbformat_minor": 2
}
