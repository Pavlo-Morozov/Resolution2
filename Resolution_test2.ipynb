{
 "cells": [
  {
   "cell_type": "code",
   "execution_count": 1,
   "metadata": {},
   "outputs": [],
   "source": [
    "from math import sqrt, gcd # Импортируем функции квадратного корня и наибольшего общего делителя"
   ]
  },
  {
   "cell_type": "markdown",
   "metadata": {},
   "source": [
    "## Из разрешения узнаём соотношение сторон\n",
    "Когда нам нужно имея разрешение экрана получить соотношение сторон\n",
    "с помошью функции gcd Greatest Common Divisor, находим наибольший общий делитель и делим на него стороны экрана, чтобы получить соотношение."
   ]
  },
  {
   "cell_type": "code",
   "execution_count": 46,
   "metadata": {},
   "outputs": [
    {
     "name": "stdout",
     "output_type": "stream",
     "text": [
      "Resolution of 2267 x 819 is: 24.912087912087912:9\n"
     ]
    }
   ],
   "source": [
    "sides = [2267, 819]\n",
    "def resolution(sides):\n",
    "    x, y = sides\n",
    "    gcf = gcd(x,y)\n",
    "    if gcf == 1 and x!=y:\n",
    "        res_x = x/y*9\n",
    "        res_y = 9\n",
    "    else:\n",
    "         res_x = x/gcf\n",
    "         res_y = y/gcf\n",
    "    return res_x, res_y\n",
    "\n",
    "print(f\"Resolution of {sides[0]} x {sides[1]} is: {resolution(sides)[0]}:{resolution(sides)[1]}\")"
   ]
  },
  {
   "cell_type": "code",
   "execution_count": 47,
   "metadata": {},
   "outputs": [
    {
     "name": "stdout",
     "output_type": "stream",
     "text": [
      "{'ratio': [24.9, 9], 'resolution': [2267, 819]}\n"
     ]
    }
   ],
   "source": [
    "#input = {\"11.8:9\": [11.8, 9]} # for hand write\n",
    "\n",
    "input = {\"ratio\": [round(resolution(sides)[0], 1 ), resolution(sides)[1]],\n",
    "                    \"resolution\": sides}\n",
    "print(input)"
   ]
  },
  {
   "cell_type": "markdown",
   "metadata": {},
   "source": [
    "## Из получившегося соотношения рассчитываем новое разрешение\n",
    "Получаем стороны экрана зная число пикселей и соотношение сторон.\n",
    "\n",
    "Переменная \"input\" содержит в себе соотношения сторон. Переделывайте её под свои нужды.\n",
    "финальное число пикселей указано как goal в функции get_sides\n",
    "\n",
    "Сразу вычисляем пропорции диагонали и саму диагональ, потом имея эту информацию мы можем найти неизвестные нам разрешения.\n",
    "\n",
    "Чтобы найти целочисленные параметры разрешения, используем цикл, изменя финальное число пикселей goal на -1 каждый раз, пока не добъёмся нужных результатов.\n",
    "\n",
    "Функция nearest_pixels записывает результаты вычислений в переменную result, которую потом можно сохранить в виде json файла."
   ]
  },
  {
   "cell_type": "code",
   "execution_count": 48,
   "metadata": {},
   "outputs": [
    {
     "name": "stdout",
     "output_type": "stream",
     "text": [
      "goal: 262144, result: 249000, height: 830.0, width: 300.0\n"
     ]
    }
   ],
   "source": [
    "def get_sides(res_x, res_y, x, y):\n",
    "    goal = 262_144 # наша цель\n",
    "    counter = goal\n",
    "    high_goal = 300_000\n",
    "\n",
    "    def calculations(res_x, res_y):  \n",
    "        inches = 2.54 # для перевода с дюймов в см (при расчёте диагонали)\n",
    "        diagonal_proportion = sqrt((res_x**2)+(res_y**2)) # вычисляем пропорции диагонали\n",
    "        \n",
    "        # d - просто переменная, чтоб не прописывать выражение 2 раза\n",
    "        d = (res_x/diagonal_proportion*inches)*(res_y/diagonal_proportion*inches)\n",
    "        diagonal = sqrt(-4*d*(-counter))/(2*d) # диагональ\n",
    "\n",
    "        height = (res_x*diagonal/diagonal_proportion)*inches # высота\n",
    "        width = (res_y*diagonal/diagonal_proportion)*inches # ширина\n",
    "        return height, width\n",
    "\n",
    "    # go up\n",
    "    if x*y > goal:\n",
    "        while counter<high_goal:\n",
    "            height, width = calculations(res_x, res_y)\n",
    "            if height%2 or width%2:\n",
    "                counter = counter+1\n",
    " \n",
    "            else:\n",
    "\n",
    "                return counter, height, width\n",
    "                break\n",
    "    # go down\n",
    "    counter = goal\n",
    "    while counter!=0:\n",
    "        height, width = calculations(res_x, res_y)\n",
    "        # Если не получились целочисленные значения, понижаем цель на 1 и пробуем снова\n",
    "        if height%2 or width%2:\n",
    "            counter = counter-1\n",
    "        else:\n",
    "            return counter, height, width\n",
    "            break\n",
    "\n",
    "#get_sides(16, 9, 1280, 720)\n",
    "res_x = input[\"ratio\"][0]\n",
    "res_y = input[\"ratio\"][1]\n",
    "x, y = input[\"resolution\"][0], input[\"resolution\"][1]\n",
    "\n",
    "result, x, y = get_sides(res_x, res_y,x,y)\n",
    "print(f\"goal: {262_144}, result: {result}, height: {x}, width: {y}\")"
   ]
  }
 ],
 "metadata": {
  "kernelspec": {
   "display_name": "Python 3.9.13 ('base')",
   "language": "python",
   "name": "python3"
  },
  "language_info": {
   "codemirror_mode": {
    "name": "ipython",
    "version": 3
   },
   "file_extension": ".py",
   "mimetype": "text/x-python",
   "name": "python",
   "nbconvert_exporter": "python",
   "pygments_lexer": "ipython3",
   "version": "3.9.13"
  },
  "orig_nbformat": 4,
  "vscode": {
   "interpreter": {
    "hash": "ad2bdc8ecc057115af97d19610ffacc2b4e99fae6737bb82f5d7fb13d2f2c186"
   }
  }
 },
 "nbformat": 4,
 "nbformat_minor": 2
}
